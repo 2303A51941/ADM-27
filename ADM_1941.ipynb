{
  "nbformat": 4,
  "nbformat_minor": 0,
  "metadata": {
    "colab": {
      "provenance": [],
      "authorship_tag": "ABX9TyPptDlgLI+EUeQ7j+2Avs5m",
      "include_colab_link": true
    },
    "kernelspec": {
      "name": "python3",
      "display_name": "Python 3"
    },
    "language_info": {
      "name": "python"
    }
  },
  "cells": [
    {
      "cell_type": "markdown",
      "metadata": {
        "id": "view-in-github",
        "colab_type": "text"
      },
      "source": [
        "<a href=\"https://colab.research.google.com/github/2303A51941/ADM-27/blob/main/ADM_1941.ipynb\" target=\"_parent\"><img src=\"https://colab.research.google.com/assets/colab-badge.svg\" alt=\"Open In Colab\"/></a>"
      ]
    },
    {
      "cell_type": "code",
      "source": [
        "from google.colab import drive\n",
        "drive.mount('/content/drive/')"
      ],
      "metadata": {
        "colab": {
          "base_uri": "https://localhost:8080/"
        },
        "id": "uJbYim3QT4sj",
        "outputId": "37ab4bdb-e700-4852-da1b-6ca5eb500536"
      },
      "execution_count": null,
      "outputs": [
        {
          "output_type": "stream",
          "name": "stdout",
          "text": [
            "Mounted at /content/drive/\n"
          ]
        }
      ]
    },
    {
      "cell_type": "code",
      "source": [
        "a=str(input(\"Enter the name of the file with .txt extension:\"))\n",
        "file2=open(a,'r')\n",
        "line=file2.readline()\n",
        "while(line!=\"\"):\n",
        "    print(line)\n",
        "    line=file2.readline()\n",
        "file2.close()"
      ],
      "metadata": {
        "id": "IUw57JGHd5fD",
        "colab": {
          "base_uri": "https://localhost:8080/"
        },
        "outputId": "b196757e-5f52-4270-db6b-cd9ad73d5908"
      },
      "execution_count": null,
      "outputs": [
        {
          "output_type": "stream",
          "name": "stdout",
          "text": [
            "Enter the name of the file with .txt extension:a.txt\n",
            "this is my first class\n"
          ]
        }
      ]
    },
    {
      "cell_type": "markdown",
      "source": [
        "Python Program to Copy One File to Another File"
      ],
      "metadata": {
        "id": "TB4hsuPBf9gL"
      }
    },
    {
      "cell_type": "code",
      "source": [
        "with open(\"a.txt\") as f:\n",
        "    with open(\"out.txt\", \"w\") as f1:\n",
        "        for line in f:\n",
        "            f1.write(line)"
      ],
      "metadata": {
        "id": "XqFUHMQQg5a7"
      },
      "execution_count": null,
      "outputs": []
    },
    {
      "cell_type": "code",
      "source": [
        "fname = input(\"Enter file name: \")\n",
        "num_lines = 0\n",
        "with open(fname, 'r') as f:\n",
        "    for line in f:\n",
        "        num_lines += 1\n",
        "print(\"Number of lines:\")\n",
        "print(num_lines)"
      ],
      "metadata": {
        "colab": {
          "base_uri": "https://localhost:8080/"
        },
        "id": "J_QYsazDg_mb",
        "outputId": "d22d3810-c4ee-43a2-e156-552aa3404e55"
      },
      "execution_count": null,
      "outputs": [
        {
          "output_type": "stream",
          "name": "stdout",
          "text": [
            "Enter file name: a.txt\n",
            "Number of lines:\n",
            "1\n"
          ]
        }
      ]
    }
  ]
}